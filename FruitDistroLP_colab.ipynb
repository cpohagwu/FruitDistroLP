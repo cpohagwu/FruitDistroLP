{
  "nbformat": 4,
  "nbformat_minor": 0,
  "metadata": {
    "colab": {
      "provenance": [],
      "authorship_tag": "ABX9TyN5jo6qgNSGwVhcXGwnrZSO",
      "include_colab_link": true
    },
    "kernelspec": {
      "name": "python3",
      "display_name": "Python 3"
    },
    "language_info": {
      "name": "python"
    }
  },
  "cells": [
    {
      "cell_type": "markdown",
      "metadata": {
        "id": "view-in-github",
        "colab_type": "text"
      },
      "source": [
        "<a href=\"https://colab.research.google.com/github/cpohagwu/FruitDistroLP/blob/main/FruitDistroLP_colab.ipynb\" target=\"_parent\"><img src=\"https://colab.research.google.com/assets/colab-badge.svg\" alt=\"Open In Colab\"/></a>"
      ]
    },
    {
      "cell_type": "code",
      "source": [
        "!pip install pulp==2.9.0 --quiet\n",
        "!pip install gradio==4.42.0 --quiet\n",
        "%cd /content\n",
        "!git clone https://github.com/cpohagwu/FruitDistroLP.git\n",
        "%cd /content/FruitDistroLP\n",
        "!python app_entry_point.py --share --always-high-vram"
      ],
      "metadata": {
        "id": "QRU7PR_Hlq5Z"
      },
      "execution_count": null,
      "outputs": []
    }
  ]
}